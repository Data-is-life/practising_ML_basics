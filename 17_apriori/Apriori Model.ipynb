{
 "cells": [
  {
   "cell_type": "markdown",
   "metadata": {},
   "source": [
    "# Apriori Model"
   ]
  },
  {
   "cell_type": "code",
   "execution_count": null,
   "metadata": {
    "ExecuteTime": {
     "end_time": "2018-10-29T22:43:28.346222Z",
     "start_time": "2018-10-29T22:43:28.325465Z"
    }
   },
   "outputs": [],
   "source": [
    "import numpy as np\n",
    "import matplotlib.pyplot as plt\n",
    "import pandas as pd\n",
    "from apyori import *"
   ]
  },
  {
   "cell_type": "code",
   "execution_count": null,
   "metadata": {
    "ExecuteTime": {
     "end_time": "2018-10-29T22:43:29.315850Z",
     "start_time": "2018-10-29T22:43:29.267139Z"
    }
   },
   "outputs": [],
   "source": [
    "df = pd.read_csv('Market_Basket_Optimisation.csv', header=None)"
   ]
  },
  {
   "cell_type": "code",
   "execution_count": null,
   "metadata": {
    "ExecuteTime": {
     "end_time": "2018-10-29T22:43:30.378048Z",
     "start_time": "2018-10-29T22:43:30.253431Z"
    },
    "scrolled": true
   },
   "outputs": [],
   "source": [
    "print(f'{df.head()}')\n",
    "print('---------------------------------------------------')\n",
    "print(f'{df.describe()}')\n",
    "print('---------------------------------------------------')\n",
    "print(f'{df.info()}')\n",
    "print('---------------------------------------------------')\n",
    "print(f'{df.columns}')"
   ]
  },
  {
   "cell_type": "markdown",
   "metadata": {},
   "source": [
    "### Putting all transactions in a list"
   ]
  },
  {
   "cell_type": "code",
   "execution_count": null,
   "metadata": {
    "ExecuteTime": {
     "end_time": "2018-10-29T22:41:59.313172Z",
     "start_time": "2018-10-29T22:41:58.325469Z"
    }
   },
   "outputs": [],
   "source": [
    "transactions = []\n",
    "for i in range(len(df)):\n",
    "    transactions.append([str(df.values[i, j]) for j in range(len(df.columns))])"
   ]
  },
  {
   "cell_type": "markdown",
   "metadata": {},
   "source": [
    "### Using Apriori function to create rules"
   ]
  },
  {
   "cell_type": "markdown",
   "metadata": {},
   "source": [
    "__transactions__ = the list of transaction we created</br>\n",
    "\n",
    "__min_length__ = minimum # of items in any basket\n",
    "                 We want at least 2 items in any basket to make any\n",
    "                 correlation.\n",
    "                 \n",
    "__min_lift__ = 20% is a good number to start with\n",
    "\n",
    "__min_support__ = # of item purchased devided by the total \n",
    "                  transactions.\n",
    "                  We want an item to be purchased 3 times a day to be\n",
    "                  of relevancy. Therefore:\n",
    "                  3X7/7500 = 0.0028\n",
    "                  \n",
    "__min_confidence__ = 3, just because it seems right"
   ]
  },
  {
   "cell_type": "code",
   "execution_count": null,
   "metadata": {
    "ExecuteTime": {
     "end_time": "2018-10-29T22:59:47.512003Z",
     "start_time": "2018-10-29T22:59:47.494044Z"
    }
   },
   "outputs": [],
   "source": [
    "rules = apriori(transactions, min_support=0.001,\n",
    "                min_confidence=0.2, min_lift=4, min_length=2)"
   ]
  },
  {
   "cell_type": "markdown",
   "metadata": {},
   "source": [
    "### Results"
   ]
  },
  {
   "cell_type": "code",
   "execution_count": null,
   "metadata": {
    "ExecuteTime": {
     "end_time": "2018-10-29T23:01:52.230223Z",
     "start_time": "2018-10-29T22:59:48.633065Z"
    }
   },
   "outputs": [],
   "source": [
    "results = list(rules)"
   ]
  },
  {
   "cell_type": "code",
   "execution_count": null,
   "metadata": {
    "ExecuteTime": {
     "end_time": "2018-10-29T23:01:52.278875Z",
     "start_time": "2018-10-29T23:01:52.233008Z"
    }
   },
   "outputs": [],
   "source": [
    "results"
   ]
  },
  {
   "cell_type": "code",
   "execution_count": null,
   "metadata": {},
   "outputs": [],
   "source": []
  }
 ],
 "metadata": {
  "kernelspec": {
   "display_name": "Python 3",
   "language": "python",
   "name": "python3"
  },
  "language_info": {
   "codemirror_mode": {
    "name": "ipython",
    "version": 3
   },
   "file_extension": ".py",
   "mimetype": "text/x-python",
   "name": "python",
   "nbconvert_exporter": "python",
   "pygments_lexer": "ipython3",
   "version": "3.6.6"
  }
 },
 "nbformat": 4,
 "nbformat_minor": 2
}
