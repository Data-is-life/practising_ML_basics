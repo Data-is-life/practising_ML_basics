{
 "cells": [
  {
   "cell_type": "markdown",
   "metadata": {},
   "source": [
    "# Polynomial Regression"
   ]
  },
  {
   "cell_type": "code",
   "execution_count": 52,
   "metadata": {
    "ExecuteTime": {
     "end_time": "2018-10-23T18:04:39.072809Z",
     "start_time": "2018-10-23T18:04:39.048671Z"
    }
   },
   "outputs": [],
   "source": [
    "import numpy as np\n",
    "import matplotlib.pyplot as plt\n",
    "import pandas as pd\n",
    "import statsmodels.formula.api as sm\n",
    "from sklearn.linear_model import LinearRegression\n",
    "from sklearn.preprocessing import PolynomialFeatures\n",
    "pd.options.display.float_format = '{:,.2f}'.format"
   ]
  },
  {
   "cell_type": "code",
   "execution_count": 53,
   "metadata": {
    "ExecuteTime": {
     "end_time": "2018-10-23T18:04:39.216135Z",
     "start_time": "2018-10-23T18:04:39.179746Z"
    },
    "scrolled": true
   },
   "outputs": [
    {
     "name": "stdout",
     "output_type": "stream",
     "text": [
      "            Position  Level  Salary\n",
      "0   Business Analyst      1   45000\n",
      "1  Junior Consultant      2   50000\n",
      "2  Senior Consultant      3   60000\n",
      "3            Manager      4   80000\n",
      "4    Country Manager      5  110000\n",
      "---------------------------------------------------\n",
      "       Level       Salary\n",
      "count  10.00        10.00\n",
      "mean    5.50   249,500.00\n",
      "std     3.03   299,373.88\n",
      "min     1.00    45,000.00\n",
      "25%     3.25    65,000.00\n",
      "50%     5.50   130,000.00\n",
      "75%     7.75   275,000.00\n",
      "max    10.00 1,000,000.00\n",
      "---------------------------------------------------\n",
      "<class 'pandas.core.frame.DataFrame'>\n",
      "RangeIndex: 10 entries, 0 to 9\n",
      "Data columns (total 3 columns):\n",
      "Position    10 non-null object\n",
      "Level       10 non-null int64\n",
      "Salary      10 non-null int64\n",
      "dtypes: int64(2), object(1)\n",
      "memory usage: 320.0+ bytes\n",
      "None\n",
      "---------------------------------------------------\n",
      "Index(['Position', 'Level', 'Salary'], dtype='object')\n"
     ]
    }
   ],
   "source": [
    "df = pd.read_csv('./Position_Salaries.csv')\n",
    "print(f'{df.head()}')\n",
    "print('---------------------------------------------------')\n",
    "print(f'{df.describe()}')\n",
    "print('---------------------------------------------------')\n",
    "print(f'{df.info()}')\n",
    "print('---------------------------------------------------')\n",
    "print(f'{df.columns}')"
   ]
  },
  {
   "cell_type": "markdown",
   "metadata": {},
   "source": [
    "### Getting X & y"
   ]
  },
  {
   "cell_type": "code",
   "execution_count": 54,
   "metadata": {
    "ExecuteTime": {
     "end_time": "2018-10-23T18:04:39.447181Z",
     "start_time": "2018-10-23T18:04:39.430545Z"
    }
   },
   "outputs": [],
   "source": [
    "X = df.iloc[:,1:2].values\n",
    "y = df['Salary'].values"
   ]
  },
  {
   "cell_type": "code",
   "execution_count": 55,
   "metadata": {
    "ExecuteTime": {
     "end_time": "2018-10-23T18:04:39.571754Z",
     "start_time": "2018-10-23T18:04:39.556994Z"
    }
   },
   "outputs": [
    {
     "name": "stdout",
     "output_type": "stream",
     "text": [
      "X shape: (10, 1)\n",
      "y shape: (10,)\n"
     ]
    }
   ],
   "source": [
    "print(f'X shape: {X.shape}')\n",
    "print(f'y shape: {y.shape}')"
   ]
  },
  {
   "cell_type": "markdown",
   "metadata": {},
   "source": [
    "### Fitting linear regression to the data set"
   ]
  },
  {
   "cell_type": "code",
   "execution_count": 56,
   "metadata": {
    "ExecuteTime": {
     "end_time": "2018-10-23T18:04:39.833014Z",
     "start_time": "2018-10-23T18:04:39.806116Z"
    }
   },
   "outputs": [
    {
     "data": {
      "text/plain": [
       "LinearRegression(copy_X=True, fit_intercept=True, n_jobs=None,\n",
       "         normalize=False)"
      ]
     },
     "execution_count": 56,
     "metadata": {},
     "output_type": "execute_result"
    }
   ],
   "source": [
    "lin_reg = LinearRegression()\n",
    "lin_reg.fit(X, y)"
   ]
  },
  {
   "cell_type": "markdown",
   "metadata": {},
   "source": [
    "### Fitting polynomial regression to the data set"
   ]
  },
  {
   "cell_type": "code",
   "execution_count": 57,
   "metadata": {
    "ExecuteTime": {
     "end_time": "2018-10-23T18:04:40.075479Z",
     "start_time": "2018-10-23T18:04:40.052423Z"
    }
   },
   "outputs": [],
   "source": [
    "poly_reg = PolynomialFeatures(degree=4)\n",
    "X_poly = poly_reg.fit_transform(X)"
   ]
  },
  {
   "cell_type": "code",
   "execution_count": 58,
   "metadata": {
    "ExecuteTime": {
     "end_time": "2018-10-23T18:04:40.190133Z",
     "start_time": "2018-10-23T18:04:40.172660Z"
    }
   },
   "outputs": [
    {
     "data": {
      "text/plain": [
       "LinearRegression(copy_X=True, fit_intercept=True, n_jobs=None,\n",
       "         normalize=False)"
      ]
     },
     "execution_count": 58,
     "metadata": {},
     "output_type": "execute_result"
    }
   ],
   "source": [
    "lin_reg_2 = LinearRegression()\n",
    "lin_reg_2.fit(X_poly, y)"
   ]
  },
  {
   "cell_type": "code",
   "execution_count": 59,
   "metadata": {
    "ExecuteTime": {
     "end_time": "2018-10-23T18:04:40.320720Z",
     "start_time": "2018-10-23T18:04:40.303399Z"
    }
   },
   "outputs": [
    {
     "data": {
      "text/plain": [
       "array([[1.000e+00, 1.000e+00, 1.000e+00, 1.000e+00, 1.000e+00],\n",
       "       [1.000e+00, 2.000e+00, 4.000e+00, 8.000e+00, 1.600e+01],\n",
       "       [1.000e+00, 3.000e+00, 9.000e+00, 2.700e+01, 8.100e+01],\n",
       "       [1.000e+00, 4.000e+00, 1.600e+01, 6.400e+01, 2.560e+02],\n",
       "       [1.000e+00, 5.000e+00, 2.500e+01, 1.250e+02, 6.250e+02],\n",
       "       [1.000e+00, 6.000e+00, 3.600e+01, 2.160e+02, 1.296e+03],\n",
       "       [1.000e+00, 7.000e+00, 4.900e+01, 3.430e+02, 2.401e+03],\n",
       "       [1.000e+00, 8.000e+00, 6.400e+01, 5.120e+02, 4.096e+03],\n",
       "       [1.000e+00, 9.000e+00, 8.100e+01, 7.290e+02, 6.561e+03],\n",
       "       [1.000e+00, 1.000e+01, 1.000e+02, 1.000e+03, 1.000e+04]])"
      ]
     },
     "execution_count": 59,
     "metadata": {},
     "output_type": "execute_result"
    }
   ],
   "source": [
    "X_poly"
   ]
  },
  {
   "cell_type": "markdown",
   "metadata": {},
   "source": [
    "### Predicting values"
   ]
  },
  {
   "cell_type": "code",
   "execution_count": 64,
   "metadata": {
    "ExecuteTime": {
     "end_time": "2018-10-23T18:06:44.389578Z",
     "start_time": "2018-10-23T18:06:44.373406Z"
    }
   },
   "outputs": [],
   "source": [
    "y_lin_pred = lin_reg.predict(X)"
   ]
  },
  {
   "cell_type": "code",
   "execution_count": 65,
   "metadata": {
    "ExecuteTime": {
     "end_time": "2018-10-23T18:06:44.902952Z",
     "start_time": "2018-10-23T18:06:44.884134Z"
    }
   },
   "outputs": [
    {
     "data": {
      "text/plain": [
       "array([-114454.54545455,  -33575.75757576,   47303.03030303,\n",
       "        128181.81818182,  209060.60606061,  289939.39393939,\n",
       "        370818.18181818,  451696.96969697,  532575.75757576,\n",
       "        613454.54545455])"
      ]
     },
     "execution_count": 65,
     "metadata": {},
     "output_type": "execute_result"
    }
   ],
   "source": [
    "y_lin_pred"
   ]
  },
  {
   "cell_type": "code",
   "execution_count": 66,
   "metadata": {
    "ExecuteTime": {
     "end_time": "2018-10-23T18:06:45.509761Z",
     "start_time": "2018-10-23T18:06:45.492404Z"
    }
   },
   "outputs": [],
   "source": [
    "X_grid = np.arange(min(X), max(X), 0.01)\n",
    "X_grid = X_grid.reshape((len(X_grid)),1)"
   ]
  },
  {
   "cell_type": "code",
   "execution_count": 67,
   "metadata": {
    "ExecuteTime": {
     "end_time": "2018-10-23T18:06:46.136152Z",
     "start_time": "2018-10-23T18:06:46.118995Z"
    }
   },
   "outputs": [],
   "source": [
    "y_pol_pred = lin_reg_2.predict(poly_reg.fit_transform(X_grid))"
   ]
  },
  {
   "cell_type": "code",
   "execution_count": 68,
   "metadata": {
    "ExecuteTime": {
     "end_time": "2018-10-23T18:06:47.642672Z",
     "start_time": "2018-10-23T18:06:47.616946Z"
    },
    "scrolled": true
   },
   "outputs": [
    {
     "data": {
      "text/plain": [
       "array([ 53356.64335681,  52718.9961192 ,  52092.0208885 ,  51475.64656908,\n",
       "        50869.80227894,  50274.41734973,  49689.42132673,  49114.74396884,\n",
       "        48550.31524863,  47996.06535229,  47451.92467963,  46917.82384413,\n",
       "        46393.69367287,  45879.4652066 ,  45375.06969967,  44880.43862011,\n",
       "        44395.50364955,  43920.19668328,  43454.4498302 ,  42998.19541288,\n",
       "        42551.3659675 ,  42113.89424388,  41685.71320549,  41266.75602943,\n",
       "        40856.95610642,  40456.24704084,  40064.56265071,  39681.83696765,\n",
       "        39308.00423695,  38942.99891753,  38586.75568194,  38239.20941636,\n",
       "        37900.29522063,  37569.9484082 ,  37248.10450617,  36934.69925528,\n",
       "        36629.6686099 ,  36332.94873803,  36044.47602132,  35764.18705505,\n",
       "        35492.01864813,  35227.90782311,  34971.79181619,  34723.60807719,\n",
       "        34483.29426957,  34250.78827042,  34026.0281705 ,  33808.95227415,\n",
       "        33599.4990994 ,  33397.60737788,  33203.21605487,  33016.2642893 ,\n",
       "        32836.69145371,  32664.43713429,  32499.44113086,  32341.64345689,\n",
       "        32190.98433948,  32047.40421936,  31910.8437509 ,  31781.24380211,\n",
       "        31658.54545463,  31542.69000374,  31433.61895836,  31331.27404104,\n",
       "        31235.59718796,  31146.53054896,  31064.01648749,  30987.99758066,\n",
       "        30918.41661919,  30855.21660746,  30798.34076348,  30747.73251888,\n",
       "        30703.33551896,  30665.09362261,  30632.9509024 ,  30606.85164452,\n",
       "        30586.74034879,  30572.56172867,  30564.26071126,  30561.78243729,\n",
       "        30565.07226114,  30574.07575081,  30588.73868795,  30609.00706783,\n",
       "        30634.82709937,  30666.14520512,  30702.90802128,  30745.06239766,\n",
       "        30792.55539773,  30845.33429859,  30903.34659097,  30966.53997924,\n",
       "        31034.86238141,  31108.26192912,  31186.68696766,  31270.08605593,\n",
       "        31358.40796649,  31451.60168553,  31549.61641288,  31652.40156199,\n",
       "        31759.90675996,  31872.08184753,  31988.87687907,  32110.24212259,\n",
       "        32236.12805973,  32366.48538576,  32501.26500961,  32640.41805382,\n",
       "        32783.8958546 ,  32931.64996175,  33083.63213874,  33239.79436268,\n",
       "        33400.08882429,  33564.46792795,  33732.88429166,  33905.29074706,\n",
       "        34081.64033944,  34261.88632771,  34445.98218443,  34633.88159578,\n",
       "        34825.53846158,  35020.90689531,  35219.94122405,  35422.59598855,\n",
       "        35628.82594317,  35838.58605591,  36051.83150843,  36268.51769601,\n",
       "        36488.60022755,  36712.03492561,  36938.77782638,  37168.78517969,\n",
       "        37402.01344899,  37638.41931139,  37877.95965761,  38120.59159204,\n",
       "        38366.27243267,  38614.95971115,  38866.61117276,  39121.18477642,\n",
       "        39378.63869467,  39638.93131372,  39902.02123337,  40167.86726709,\n",
       "        40436.42844199,  40707.6639988 ,  40981.53339188,  41257.99628924,\n",
       "        41537.01257253,  41818.54233702,  42102.54589164,  42388.98375893,\n",
       "        42677.81667509,  42969.00558994,  43262.51166693,  43558.29628318,\n",
       "        43856.3210294 ,  44156.54770998,  44458.93834292,  44763.45515986,\n",
       "        45070.06060609,  45378.71734052,  45689.38823569,  46002.03637781,\n",
       "        46316.6250667 ,  46633.11781581,  46951.47835224,  47271.67061674,\n",
       "        47593.65876366,  47917.40716103,  48242.88039047,  48570.04324727,\n",
       "        48898.86074035,  49229.29809226,  49561.32073919,  49894.89433096,\n",
       "        50229.98473103,  50566.5580165 ,  50904.58047811,  51244.01862023,\n",
       "        51584.83916086,  51927.00903165,  52270.49537788,  52615.26555846,\n",
       "        52961.28714595,  53308.52792653,  53656.95590003,  54006.53927991,\n",
       "        54357.24649326,  54709.04618084,  55061.90719699,  55415.79860974,\n",
       "        55770.68970072,  56126.54996522,  56483.34911215,  56841.05706405,\n",
       "        57199.64395713,  57559.08014121,  57919.33617974,  58280.38284983,\n",
       "        58642.19114221,  59004.73226126,  59367.97762497,  59731.89886499,\n",
       "        60096.4678266 ,  60461.65656872,  60827.43736389,  61193.78269832,\n",
       "        61560.66527182,  61928.05799785,  62295.93400352,  62664.26662955,\n",
       "        63033.02943033,  63402.19617384,  63771.74084175,  64141.63762932,\n",
       "        64511.86094548,  64882.38541277,  65253.18586739,  65624.23735916,\n",
       "        65995.51515154,  66366.99472163,  66738.65176016,  67110.46217151,\n",
       "        67482.40207368,  67854.44779832,  68226.5758907 ,  68598.76310974,\n",
       "        68970.98642799,  69343.22303165,  69715.45032054,  70087.64590811,\n",
       "        70459.78762147,  70831.85350135,  71203.82180212,  71575.67099179,\n",
       "        71947.379752  ,  72318.92697804,  72690.29177881,  73061.45347687,\n",
       "        73432.39160841,  73803.08592326,  74173.51638487,  74543.66317035,\n",
       "        74913.50667042,  75283.02748946,  75652.20644548,  76021.02457011,\n",
       "        76389.46310865,  76757.50352   ,  77125.12747671,  77492.31686499,\n",
       "        77859.05378464,  78225.32054913,  78591.09968557,  78956.37393468,\n",
       "        79321.12625084,  79685.33980205,  80048.99796995,  80412.08434983,\n",
       "        80774.58275061,  81136.47719482,  81497.75191867,  81858.39137198,\n",
       "        82218.38021821,  82577.70333445,  82936.34581145,  83294.29295356,\n",
       "        83651.53027881,  84008.04351883,  84363.81861891,  84718.84173795,\n",
       "        85073.09924851,  85426.57773678,  85779.26400259,  86131.14505939,\n",
       "        86482.20813429,  86832.44066802,  87181.83031494,  87530.36494308,\n",
       "        87878.03263406,  88224.82168317,  88570.72059933,  88915.71810508,\n",
       "        89259.80313662,  89602.96484378,  89945.19259   ,  90286.4759524 ,\n",
       "        90626.8047217 ,  90966.16890228,  91304.55871215,  91641.96458294,\n",
       "        91978.37715993,  92313.78730205,  92648.18608184,  92981.5647855 ,\n",
       "        93313.91491285,  93645.22817734,  93975.49650609,  94304.71203981,\n",
       "        94632.86713289,  94959.95435333,  95285.96648278,  95610.8965165 ,\n",
       "        95934.73766343,  96257.48334611,  96579.12720073,  96899.66307711,\n",
       "        97219.08503872,  97537.38736266,  97854.56453965,  98170.61127408,\n",
       "        98485.52248394,  98799.29330089,  99111.91907019,  99423.39535077,\n",
       "        99733.71791518, 100042.88274961, 100350.88605387, 100657.72424145,\n",
       "       100963.39393942, 101267.89198853, 101571.21544315, 101873.36157128,\n",
       "       102174.32785457, 102474.1119883 , 102772.71188138, 103070.12565637,\n",
       "       103366.35164945, 103661.38841045, 103955.23470283, 104247.88950369,\n",
       "       104539.35200376, 104829.62160742, 105118.69793266, 105406.58081115,\n",
       "       105693.27028814, 105978.76662257, 106263.07028698, 106546.18196756,\n",
       "       106828.10256413, 107108.83319017, 107388.37517276, 107666.73005264,\n",
       "       107943.89958418, 108219.88573539, 108494.69068791, 108768.31683702,\n",
       "       109040.76679164, 109312.04337432, 109582.14962124, 109851.08878224,\n",
       "       110118.86432078, 110385.47991394, 110650.93945248, 110915.24704075,\n",
       "       111178.40699677, 111440.42385217, 111701.30235225, 111961.0474559 ,\n",
       "       112219.6643357 , 112477.15837781, 112733.53518208, 112988.80056196,\n",
       "       113242.96054455, 113496.02137059, 113747.98949444, 113998.87158411,\n",
       "       114248.67452124, 114497.40540113, 114745.07153267, 114991.68043842,\n",
       "       115237.23985458, 115481.75773096, 115725.24223104, 115967.70173189,\n",
       "       116209.14482428, 116449.58031255, 116689.01721472, 116927.46476243,\n",
       "       117164.93240097, 117401.42978924, 117636.9667998 , 117871.55351884,\n",
       "       118105.20024619, 118337.9174953 , 118569.71599327, 118800.60668085,\n",
       "       119030.60071239, 119259.7094559 , 119487.94449304, 119715.31761908,\n",
       "       119941.84084292, 120167.52638714, 120392.38668791, 120616.43439507,\n",
       "       120839.68237206, 121062.143696  , 121283.83165761, 121504.75976127,\n",
       "       121724.94172498, 121944.39148038, 122163.12317276, 122381.15116103,\n",
       "       122598.49001775, 122815.1545291 , 123031.15969491, 123246.52072863,\n",
       "       123461.25305738, 123675.37232187, 123888.89437649, 124101.83528924,\n",
       "       124314.21134176, 124526.03902933, 124737.33506087, 124948.11635893,\n",
       "       125158.40005971, 125368.20351301, 125577.54428232, 125786.44014472,\n",
       "       125994.90909094, 126202.96932537, 126410.639266  , 126617.93754448,\n",
       "       126824.88300609, 127031.49470975, 127237.791928  , 127443.79414705,\n",
       "       127649.5210667 , 127854.99260043, 128060.22887532, 128265.25023213,\n",
       "       128470.07722521, 128674.73062257, 128879.23140586, 129083.60077036,\n",
       "       129287.86012497, 129492.03109227, 129696.13550842, 129900.19542327,\n",
       "       130104.23310027, 130308.27101651, 130512.33186274, 130716.43854332,\n",
       "       130920.61417626, 131124.8820932 , 131329.26583943, 131533.78917385,\n",
       "       131738.47606903, 131943.35071115, 132148.43750003, 132353.76104914,\n",
       "       132559.34618558, 132765.21795008, 132971.401597  , 133177.92259436,\n",
       "       133384.80662381, 133592.07958061, 133799.76757369, 134007.8969256 ,\n",
       "       134216.49417252, 134425.58606429, 134635.19956437, 134845.36184984,\n",
       "       135056.10031145, 135267.44255357, 135479.4163942 , 135692.04986499,\n",
       "       135905.37121122, 136119.4088918 , 136334.19157928, 136549.74815986,\n",
       "       136766.10773336, 136983.29961324, 137201.3533266 , 137420.29861417,\n",
       "       137640.16543033, 137860.98394308, 138082.78453406, 138305.59779856,\n",
       "       138529.45454548, 138754.38579739, 138980.42279047, 139207.59697455,\n",
       "       139435.94001308, 139665.48378317, 139896.26037555, 140128.30209459,\n",
       "       140361.6414583 , 140596.31119832, 140832.34425993, 141069.77380205,\n",
       "       141308.63319723, 141548.95603165, 141790.77610515, 142034.12743119,\n",
       "       142279.04423685, 142525.56096289, 142773.71226366, 143023.53300718,\n",
       "       143275.05827508, 143528.32336266, 143783.36377881, 144040.2152461 ,\n",
       "       144298.91370072, 144559.49529249, 144821.99638487, 145086.45355496,\n",
       "       145352.9035935 , 145621.38350484, 145891.93050702, 146164.58203165,\n",
       "       146439.37572403, 146716.34944307, 146995.54126133, 147276.98946498,\n",
       "       147560.73255387, 147846.80924144, 148135.2584548 , 148426.11933468,\n",
       "       148719.43123545, 149015.23372512, 149313.56658533, 149614.46981137,\n",
       "       149917.98361214, 150224.1484102 , 150533.00484174, 150844.59375659,\n",
       "       151158.9562182 , 151476.13350367, 151796.16710375, 152119.09872279,\n",
       "       152444.9702788 , 152773.82390344, 153105.70194197, 153440.64695332,\n",
       "       153778.70171004, 154119.90919831, 154464.31261796, 154811.95538246,\n",
       "       155162.88111889, 155517.13366801, 155874.75708416, 156235.79563537,\n",
       "       156600.29380328, 156968.29628316, 157339.84798393, 157714.99402814,\n",
       "       158093.77975199, 158476.2507053 , 158862.45265153, 159252.43156777,\n",
       "       159646.23364477, 160043.90528688, 160445.49311213, 160851.04395215,\n",
       "       161260.60485222, 161674.22307126, 162091.94608183, 162513.8215701 ,\n",
       "       162939.8974359 , 163370.22179271, 163804.84296761, 164243.80950133,\n",
       "       164687.17014826, 165134.97387639, 165587.26986737, 166044.10751648,\n",
       "       166505.53643264, 166971.60643839, 167442.36756993, 167917.87007709,\n",
       "       168398.16442331, 168883.30128571, 169373.33155501, 169868.30633559,\n",
       "       170368.27694546, 170873.29491624, 171383.41199324, 171898.68013536,\n",
       "       172419.15151515, 172944.87851881, 173475.91374615, 174012.31001065,\n",
       "       174554.12033939, 175101.39797312, 175654.1963662 , 176212.56918664,\n",
       "       176776.57031608, 177346.25384981, 177921.67409673, 178502.88557941,\n",
       "       179089.94303403, 179682.90141041, 180281.81587202, 180886.74179596,\n",
       "       181497.73477295, 182114.85060738, 182738.14531724, 183367.67513419,\n",
       "       184003.49650349, 184645.66608407, 185294.24074848, 185949.2775829 ,\n",
       "       186610.83388717, 187278.96717474, 187953.73517272, 188635.19582183,\n",
       "       189323.40727644, 190018.42790458, 190720.31628787, 191429.13122159,\n",
       "       192144.93171467, 192867.77698966, 193597.72648274, 194334.83984374,\n",
       "       195079.17693611, 195830.79783697, 196589.76283705, 197356.1324407 ,\n",
       "       198129.96736595, 198911.32854443, 199700.27712143, 200496.87445585,\n",
       "       201301.18212026, 202113.26190084, 202933.17579742, 203760.98602345,\n",
       "       204596.75500604, 205440.54538592, 206292.42001746, 207152.44196867,\n",
       "       208020.67452119, 208897.1811703 , 209782.02562492, 210675.2718076 ,\n",
       "       211576.98385452, 212487.22611552, 213406.06315405, 214333.55974722,\n",
       "       215269.78088575, 216214.79177402, 217168.65783004, 218131.44468545,\n",
       "       219103.21818552, 220084.04438918, 221073.98956897, 222073.12021109,\n",
       "       223081.50301535, 224099.20489523, 225126.29297782, 226162.83460386,\n",
       "       227208.89732771, 228264.54891738, 229329.85735451, 230404.89083439,\n",
       "       231489.71776593, 232584.40677169, 233689.02668784, 234803.64656423,\n",
       "       235928.3356643 , 237063.16346516, 238208.19965754, 239363.51414581,\n",
       "       240529.17704798, 241705.25869569, 242891.82963422, 244088.9606225 ,\n",
       "       245296.72263306, 246515.1868521 , 247744.42467944, 248984.50772856,\n",
       "       250235.50782653, 251497.4970141 , 252770.54754564, 254054.73188916,\n",
       "       255350.12272629, 256656.79295233, 257974.81567618, 259304.26422039,\n",
       "       260645.21212116, 261997.73312832, 263361.90120531, 264737.79052925,\n",
       "       266125.47549086, 267525.03069452, 268936.53095822, 270360.05131363,\n",
       "       271795.66700601, 273243.45349428, 274703.48645099, 276175.84176234,\n",
       "       277660.59552815, 279157.82406188, 280667.60389062, 282190.01175512,\n",
       "       283725.12460973, 285273.01962248, 286833.774175  , 288407.46586257,\n",
       "       289994.17249411, 291593.97209218, 293206.94289295, 294833.16334625,\n",
       "       296472.71211556, 298125.66807795, 299792.11032418, 301472.11815861,\n",
       "       303165.77109924, 304873.14887772, 306594.33143933, 308329.39894299,\n",
       "       310078.43176124, 311841.51048028, 313618.71589993, 315410.12903366,\n",
       "       317215.83110856, 319035.90356536, 320870.42805844, 322719.4864558 ,\n",
       "       324583.16083909, 326461.53350359, 328354.6869582 , 330262.7039255 ,\n",
       "       332185.66734165, 334123.6603565 , 336076.76633349, 338045.06884974,\n",
       "       340028.65169596, 342027.59887654, 344041.99460948, 346071.92332642,\n",
       "       348117.46967265, 350178.71850707, 352255.75490225, 354348.66414437,\n",
       "       356457.53173325, 358582.44338237, 360723.4850188 , 362880.7427833 ,\n",
       "       365054.30303022, 367244.25232758, 369450.67745703, 371673.66541383,\n",
       "       373913.30340691, 376169.67885882, 378442.87940574, 380732.99289751,\n",
       "       383040.10739758, 385364.31118306, 387705.69274467, 390064.34078679,\n",
       "       392440.34422742, 394833.79219821, 397244.77404443, 399673.37932501,\n",
       "       402119.6978125 , 404583.81949308, 407065.83456658, 409565.83344645,\n",
       "       412083.90675982, 414620.14534739, 417174.64026354, 419747.48277629,\n",
       "       422338.76436727, 424948.57673177, 427577.01177869, 430224.1616306 ,\n",
       "       432890.11862368, 435574.97530775, 438278.82444629, 441001.75901638,\n",
       "       443743.87220876, 446505.2574278 , 449286.00829151, 452086.21863153,\n",
       "       454905.98249314, 457745.39413526, 460604.54803043, 463483.53886486,\n",
       "       466382.46153836, 469301.41116439, 472240.48307006, 475199.77279609,\n",
       "       478179.37609686, 481179.38894038, 484199.90750829, 487241.02819586,\n",
       "       490302.84761201, 493385.46257931, 496488.97013393, 499613.46752569,\n",
       "       502759.05221807, 505925.82188816, 509113.8744267 , 512323.30793805,\n",
       "       515554.22074021, 518806.71136485, 522080.87855723, 525376.82127627,\n",
       "       528694.63869453, 532034.43019818, 535396.29538707, 538780.33407464,\n",
       "       542186.646288  , 545615.33226788, 549066.49246865, 552540.22755832,\n",
       "       556036.63841853, 559555.82614457, 563097.89204534, 566662.9376434 ,\n",
       "       570251.06467494, 573862.37508979, 577496.9710514 , 581154.95493687,\n",
       "       584836.42933694, 588541.49705598, 592270.261112  , 596022.82473664,\n",
       "       599799.29137517, 603599.76468652, 607424.34854323, 611273.14703151,\n",
       "       615146.26445116, 619043.80531565, 622965.87435209, 626912.5765012 ,\n",
       "       630884.01691736, 634880.30096857, 638901.53423647, 642947.82251635,\n",
       "       647019.27181712, 651115.98836134, 655238.07858519, 659385.6491385 ,\n",
       "       663558.80688472, 667757.65890096, 671982.31247796, 676232.87512008,\n",
       "       680509.45454533, 684812.15868534, 689141.09568542, 693496.37390446,\n",
       "       697878.10191502, 702286.38850329, 706721.3426691 , 711183.0736259 ,\n",
       "       715671.6908008 , 720187.30383453, 724730.02258145, 729299.95710958,\n",
       "       733897.21770057, 738521.91484968, 743174.15926583, 747854.06187159,\n",
       "       752561.73380313, 757297.28641028, 762060.83125651, 766852.48011891,\n",
       "       771672.34498821, 776520.53806879, 781397.17177865, 786302.35874944,\n",
       "       791236.21182644, 796198.84406855, 801190.36874835, 806210.89935201,\n",
       "       811260.54957935, 816339.43334385, 821447.66477259, 826585.35820632,\n",
       "       831752.6281994 , 836949.58951984, 842176.35714928, 847433.04628301,\n",
       "       852719.77232993, 858036.65091261, 863383.79786723, 868761.32924361,\n",
       "       874169.36130522, 879608.01052916, 885077.39360616, 890577.62744058,\n",
       "       896108.82915044, 901671.11606739, 907264.60573669, 912889.41591727,\n",
       "       918545.66458168, 924233.4699161 , 929952.95032037, 935704.22440794,\n",
       "       941487.41100592, 947302.62915503, 953149.99810965, 959029.63733778,\n",
       "       964941.66652107, 970886.2055548 , 976863.37454788, 982873.29382286])"
      ]
     },
     "execution_count": 68,
     "metadata": {},
     "output_type": "execute_result"
    }
   ],
   "source": [
    "y_pol_pred"
   ]
  },
  {
   "cell_type": "markdown",
   "metadata": {
    "ExecuteTime": {
     "end_time": "2018-10-23T17:56:35.122300Z",
     "start_time": "2018-10-23T17:56:35.099624Z"
    }
   },
   "source": [
    "### Plotting the linear regression results"
   ]
  },
  {
   "cell_type": "code",
   "execution_count": 69,
   "metadata": {
    "ExecuteTime": {
     "end_time": "2018-10-23T18:06:49.911205Z",
     "start_time": "2018-10-23T18:06:49.782017Z"
    }
   },
   "outputs": [
    {
     "data": {
      "image/png": "[encoded data removed]",
      "text/plain": [
       "<Figure size 432x288 with 1 Axes>"
      ]
     },
     "metadata": {
      "needs_background": "light"
     },
     "output_type": "display_data"
    }
   ],
   "source": [
    "plt.scatter(X, y, c='r')\n",
    "plt.plot(X, y_lin_pred, c='b')\n",
    "plt.title('Wage v Possition Level (Linear only model)')\n",
    "plt.xlabel('Years of Possition Level')\n",
    "plt.ylabel('Wage')\n",
    "plt.show()"
   ]
  },
  {
   "cell_type": "markdown",
   "metadata": {},
   "source": [
    "### Plotting the linear regression results"
   ]
  },
  {
   "cell_type": "code",
   "execution_count": 70,
   "metadata": {
    "ExecuteTime": {
     "end_time": "2018-10-23T18:06:51.540187Z",
     "start_time": "2018-10-23T18:06:51.407987Z"
    }
   },
   "outputs": [
    {
     "data": {
      "image/png": "[encoded data removed]",
      "text/plain": [
       "<Figure size 432x288 with 1 Axes>"
      ]
     },
     "metadata": {
      "needs_background": "light"
     },
     "output_type": "display_data"
    }
   ],
   "source": [
    "plt.scatter(X, y, c='r')\n",
    "plt.plot(X_grid, y_pol_pred, c='b')\n",
    "plt.title('Wage v Possition Level (Polynomial model)')\n",
    "plt.xlabel('Years of Possition Level')\n",
    "plt.ylabel('Wage')\n",
    "plt.show()"
   ]
  },
  {
   "cell_type": "markdown",
   "metadata": {},
   "source": [
    "### Predicting a new result with Linear Regression"
   ]
  },
  {
   "cell_type": "code",
   "execution_count": 75,
   "metadata": {
    "ExecuteTime": {
     "end_time": "2018-10-23T18:09:24.599090Z",
     "start_time": "2018-10-23T18:09:24.573193Z"
    }
   },
   "outputs": [
    {
     "data": {
      "text/plain": [
       "array([330378.78787879])"
      ]
     },
     "execution_count": 75,
     "metadata": {},
     "output_type": "execute_result"
    }
   ],
   "source": [
    "lin_reg.predict(np.array(6.5).reshape(-1, 1))"
   ]
  },
  {
   "cell_type": "markdown",
   "metadata": {},
   "source": [
    "### Predicting a new result with Polynomial Regression"
   ]
  },
  {
   "cell_type": "code",
   "execution_count": 76,
   "metadata": {
    "ExecuteTime": {
     "end_time": "2018-10-23T18:10:19.522819Z",
     "start_time": "2018-10-23T18:10:19.495794Z"
    }
   },
   "outputs": [
    {
     "data": {
      "text/plain": [
       "array([158862.45265153])"
      ]
     },
     "execution_count": 76,
     "metadata": {},
     "output_type": "execute_result"
    }
   ],
   "source": [
    "lin_reg_2.predict(poly_reg.fit_transform(np.array(6.5).reshape(-1, 1)))"
   ]
  }
 ],
 "metadata": {
  "kernelspec": {
   "display_name": "Python 3",
   "language": "python",
   "name": "python3"
  },
  "language_info": {
   "codemirror_mode": {
    "name": "ipython",
    "version": 3
   },
   "file_extension": ".py",
   "mimetype": "text/x-python",
   "name": "python",
   "nbconvert_exporter": "python",
   "pygments_lexer": "ipython3",
   "version": "3.6.6"
  }
 },
 "nbformat": 4,
 "nbformat_minor": 2
}
