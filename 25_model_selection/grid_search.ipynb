{
 "cells": [
  {
   "cell_type": "markdown",
   "metadata": {},
   "source": [
    "# Grid Search"
   ]
  },
  {
   "cell_type": "code",
   "execution_count": null,
   "metadata": {
    "ExecuteTime": {
     "end_time": "2018-10-30T21:10:08.123999Z",
     "start_time": "2018-10-30T21:10:08.108646Z"
    }
   },
   "outputs": [],
   "source": [
    "import numpy as np\n",
    "import matplotlib.pyplot as plt\n",
    "import pandas as pd\n",
    "from sklearn.model_selection import train_test_split\n",
    "from sklearn.model_selection import cross_val_score\n",
    "from sklearn.model_selection import GridSearchCV\n",
    "from sklearn.preprocessing import StandardScaler\n",
    "from sklearn.svm import SVC\n",
    "from sklearn.metrics import confusion_matrix\n",
    "from matplotlib.colors import ListedColormap\n",
    "from random import *"
   ]
  },
  {
   "cell_type": "code",
   "execution_count": null,
   "metadata": {
    "ExecuteTime": {
     "end_time": "2018-10-30T21:10:09.377150Z",
     "start_time": "2018-10-30T21:10:09.359264Z"
    }
   },
   "outputs": [],
   "source": [
    "df = pd.read_csv('Social_Network_Ads.csv')\n",
    "X = df.iloc[:, [2, 3]].values\n",
    "y = df.iloc[:, 4].values"
   ]
  },
  {
   "cell_type": "code",
   "execution_count": null,
   "metadata": {
    "ExecuteTime": {
     "end_time": "2018-10-30T21:10:09.767317Z",
     "start_time": "2018-10-30T21:10:09.732037Z"
    },
    "scrolled": true
   },
   "outputs": [],
   "source": [
    "print(f'{df.head()}')\n",
    "print('---------------------------------------------------')\n",
    "print(f'{df.describe()}')\n",
    "print('---------------------------------------------------')\n",
    "print(f'{df.info()}')\n",
    "print('---------------------------------------------------')\n",
    "print(f'{df.columns}')"
   ]
  },
  {
   "cell_type": "code",
   "execution_count": null,
   "metadata": {
    "ExecuteTime": {
     "end_time": "2018-10-30T21:31:38.715315Z",
     "start_time": "2018-10-30T21:31:38.691170Z"
    }
   },
   "outputs": [],
   "source": [
    "X_train, X_test, y_train, y_test = train_test_split(\n",
    "    X, y, test_size=0.25, random_state=9)"
   ]
  },
  {
   "cell_type": "markdown",
   "metadata": {},
   "source": [
    "### Feature Scaling"
   ]
  },
  {
   "cell_type": "code",
   "execution_count": null,
   "metadata": {
    "ExecuteTime": {
     "end_time": "2018-10-30T21:31:39.618844Z",
     "start_time": "2018-10-30T21:31:39.604087Z"
    }
   },
   "outputs": [],
   "source": [
    "sc = StandardScaler()\n",
    "X_train = sc.fit_transform(X_train)\n",
    "X_test = sc.transform(X_test)"
   ]
  },
  {
   "cell_type": "markdown",
   "metadata": {},
   "source": [
    "### Fitting Kernel SVM Classification to the Training set"
   ]
  },
  {
   "cell_type": "code",
   "execution_count": null,
   "metadata": {
    "ExecuteTime": {
     "end_time": "2018-10-30T21:32:40.723673Z",
     "start_time": "2018-10-30T21:32:40.701961Z"
    }
   },
   "outputs": [],
   "source": [
    "classifier = SVC(C=1, kernel='rbf', gamma=0.508, random_state=9)\n",
    "classifier.fit(X_train, y_train)"
   ]
  },
  {
   "cell_type": "markdown",
   "metadata": {},
   "source": [
    "### Predicting the Test set results"
   ]
  },
  {
   "cell_type": "code",
   "execution_count": null,
   "metadata": {
    "ExecuteTime": {
     "end_time": "2018-10-30T21:32:41.773102Z",
     "start_time": "2018-10-30T21:32:41.755573Z"
    }
   },
   "outputs": [],
   "source": [
    "y_pred = classifier.predict(X_test)\n",
    "y_pred"
   ]
  },
  {
   "cell_type": "markdown",
   "metadata": {},
   "source": [
    "### Applying k-Fold Cross Validation"
   ]
  },
  {
   "cell_type": "code",
   "execution_count": null,
   "metadata": {
    "ExecuteTime": {
     "end_time": "2018-10-30T21:32:54.372631Z",
     "start_time": "2018-10-30T21:32:54.338281Z"
    }
   },
   "outputs": [],
   "source": [
    "accuracies = cross_val_score(\n",
    "    estimator=classifier, X=X_train, y=y_train, cv=10, n_jobs=-1)\n",
    "[print(f'{round(num*100,2)}%') for num in accuracies]\n",
    "print(f'Accuracy means: {round(accuracies.mean()*100,2)}%')\n",
    "print(f'Accuracy standard deviation: {round(accuracies.std(),4)}')"
   ]
  },
  {
   "cell_type": "markdown",
   "metadata": {},
   "source": [
    "### Making the Confusion Matrix"
   ]
  },
  {
   "cell_type": "code",
   "execution_count": null,
   "metadata": {
    "ExecuteTime": {
     "end_time": "2018-10-30T21:32:57.243447Z",
     "start_time": "2018-10-30T21:32:57.217287Z"
    }
   },
   "outputs": [],
   "source": [
    "cm = confusion_matrix(y_test, y_pred)\n",
    "cm"
   ]
  },
  {
   "cell_type": "code",
   "execution_count": null,
   "metadata": {
    "ExecuteTime": {
     "end_time": "2018-10-30T21:32:59.516214Z",
     "start_time": "2018-10-30T21:32:59.499663Z"
    }
   },
   "outputs": [],
   "source": [
    "accuracy = (cm[0][0]+cm[1][1])/(cm.sum())\n",
    "print(f'Accuracy = {accuracy*100}%')"
   ]
  },
  {
   "cell_type": "markdown",
   "metadata": {},
   "source": [
    "### Applying Grid Search to find the best model and the best parameters"
   ]
  },
  {
   "cell_type": "code",
   "execution_count": null,
   "metadata": {
    "ExecuteTime": {
     "end_time": "2018-10-30T21:32:05.489461Z",
     "start_time": "2018-10-30T21:32:05.471393Z"
    }
   },
   "outputs": [],
   "source": [
    "gamma_range = [round(uniform(0.01,.99),5) for num in range(1,30)]"
   ]
  },
  {
   "cell_type": "code",
   "execution_count": null,
   "metadata": {
    "ExecuteTime": {
     "end_time": "2018-10-30T21:32:06.284634Z",
     "start_time": "2018-10-30T21:32:06.263762Z"
    }
   },
   "outputs": [],
   "source": [
    "C_range = [randint(1, 1), randint(2, 5), randint(6, 11),\n",
    "           randint(12, 19), randint(20, 29), randint(30, 41),\n",
    "           randint(42, 55), randint(56, 71), randint(72, 89),\n",
    "           randint(90, 109), randint(110, 131), randint(132, 155),\n",
    "           randint(156, 181), randint(182, 209), randint(210, 239),\n",
    "           randint(240, 271), randint(272, 305), randint(306, 341),\n",
    "           randint(342, 379), randint(380, 419), randint(420, 461),\n",
    "           randint(462, 505), randint(506, 551), randint(552, 599),\n",
    "           randint(600, 649), randint(650, 701), randint(702, 755),\n",
    "           randint(756, 811), randint(812, 869), randint(870, 929),\n",
    "           randint(930, 991), randint(992, 1055)]"
   ]
  },
  {
   "cell_type": "code",
   "execution_count": null,
   "metadata": {
    "ExecuteTime": {
     "end_time": "2018-10-30T21:32:06.742743Z",
     "start_time": "2018-10-30T21:32:06.727055Z"
    }
   },
   "outputs": [],
   "source": [
    "parameters = [{'C': C_range,\n",
    "               'kernel': ['linear']},\n",
    "              {'C': C_range,\n",
    "               'kernel': ['rbf'],\n",
    "               'gamma': gamma_range}\n",
    "              ]\n",
    "\n",
    "grid_search = GridSearchCV(estimator=classifier, param_grid=parameters,\n",
    "                           scoring='accuracy', cv=10,\n",
    "                           n_jobs=-1, iid=True)"
   ]
  },
  {
   "cell_type": "code",
   "execution_count": null,
   "metadata": {
    "ExecuteTime": {
     "end_time": "2018-10-30T21:32:22.200881Z",
     "start_time": "2018-10-30T21:32:07.410773Z"
    }
   },
   "outputs": [],
   "source": [
    "grid_search = grid_search.fit(X_train, y_train)\n",
    "best_accuracy = grid_search.best_score_\n",
    "best_parameters = grid_search.best_params_"
   ]
  },
  {
   "cell_type": "code",
   "execution_count": null,
   "metadata": {
    "ExecuteTime": {
     "end_time": "2018-10-30T21:32:22.218977Z",
     "start_time": "2018-10-30T21:32:22.203044Z"
    }
   },
   "outputs": [],
   "source": [
    "print(f'best accuracy: {best_accuracy}')\n",
    "print(f'best parameters: {best_parameters}')"
   ]
  },
  {
   "cell_type": "markdown",
   "metadata": {},
   "source": [
    "### Visualising the Training set results"
   ]
  },
  {
   "cell_type": "code",
   "execution_count": null,
   "metadata": {
    "ExecuteTime": {
     "end_time": "2018-10-30T21:34:02.450151Z",
     "start_time": "2018-10-30T21:34:01.878646Z"
    }
   },
   "outputs": [],
   "source": [
    "X_set, y_set = X_train, y_train\n",
    "\n",
    "X1, X2 = np.meshgrid(np.arange(start=X_set[:, 0].min() - .25,\n",
    "                               stop=X_set[:, 0].max() + .25, step=0.01),\n",
    "                     np.arange(start=X_set[:, 1].min() - .25,\n",
    "                               stop=X_set[:, 1].max() + .25, step=0.01))\n",
    "\n",
    "plt.contourf(X1, X2, classifier.predict(np.array(\n",
    "    [X1.ravel(), X2.ravel()]).T).reshape(X1.shape),\n",
    "    alpha=0.4, cmap=ListedColormap(('red', 'green')))\n",
    "\n",
    "plt.xlim(X1.min(), X1.max())\n",
    "plt.ylim(X2.min(), X2.max())\n",
    "\n",
    "for i, j in enumerate(np.unique(y_set)):\n",
    "    plt.scatter(X_set[y_set == j, 0], X_set[y_set == j, 1],\n",
    "                c=['r', 'g'][i], marker='.', label=j)\n",
    "\n",
    "plt.title('k-fold optimized via cross validation (Training set)')\n",
    "plt.xlabel('Age')\n",
    "plt.ylabel('Estimated Salary')\n",
    "plt.legend()\n",
    "plt.show()"
   ]
  },
  {
   "cell_type": "markdown",
   "metadata": {},
   "source": [
    "### Visualising the Test set results"
   ]
  },
  {
   "cell_type": "code",
   "execution_count": null,
   "metadata": {
    "ExecuteTime": {
     "end_time": "2018-10-30T21:34:06.085423Z",
     "start_time": "2018-10-30T21:34:05.522349Z"
    }
   },
   "outputs": [],
   "source": [
    "X_set, y_set = X_test, y_test\n",
    "\n",
    "X1, X2 = np.meshgrid(np.arange(start=X_set[:, 0].min() - .25,\n",
    "                               stop=X_set[:, 0].max() + .25, step=0.01),\n",
    "                     np.arange(start=X_set[:, 1].min() - .25,\n",
    "                               stop=X_set[:, 1].max() + .25, step=0.01))\n",
    "\n",
    "plt.contourf(X1, X2, classifier.predict(np.array(\n",
    "    [X1.ravel(), X2.ravel()]).T).reshape(X1.shape),\n",
    "    alpha=0.45, cmap=ListedColormap(('red', 'green')))\n",
    "\n",
    "plt.xlim(X1.min(), X1.max())\n",
    "plt.ylim(X2.min(), X2.max())\n",
    "\n",
    "for i, j in enumerate(np.unique(y_set)):\n",
    "    plt.scatter(X_set[y_set == j, 0], X_set[y_set == j, 1],\n",
    "                c=['r', 'g'][i], marker='.', label=j)\n",
    "\n",
    "plt.title('k-fold optimized via cross validation (Test set)')\n",
    "plt.xlabel('Age')\n",
    "plt.ylabel('Estimated Salary')\n",
    "plt.legend()\n",
    "plt.show()"
   ]
  },
  {
   "cell_type": "code",
   "execution_count": null,
   "metadata": {},
   "outputs": [],
   "source": []
  }
 ],
 "metadata": {
  "kernelspec": {
   "display_name": "Python 3",
   "language": "python",
   "name": "python3"
  },
  "language_info": {
   "codemirror_mode": {
    "name": "ipython",
    "version": 3
   },
   "file_extension": ".py",
   "mimetype": "text/x-python",
   "name": "python",
   "nbconvert_exporter": "python",
   "pygments_lexer": "ipython3",
   "version": "3.6.6"
  }
 },
 "nbformat": 4,
 "nbformat_minor": 2
}
