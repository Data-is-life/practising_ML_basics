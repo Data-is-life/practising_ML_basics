{
 "cells": [
  {
   "cell_type": "markdown",
   "metadata": {},
   "source": [
    "# Polynomial Regression"
   ]
  },
  {
   "cell_type": "code",
   "execution_count": null,
   "metadata": {
    "ExecuteTime": {
     "end_time": "2018-10-23T18:04:39.072809Z",
     "start_time": "2018-10-23T18:04:39.048671Z"
    }
   },
   "outputs": [],
   "source": [
    "import numpy as np\n",
    "import matplotlib.pyplot as plt\n",
    "import pandas as pd\n",
    "import statsmodels.formula.api as sm\n",
    "from sklearn.linear_model import LinearRegression\n",
    "from sklearn.preprocessing import PolynomialFeatures\n",
    "pd.options.display.float_format = '{:,.2f}'.format"
   ]
  },
  {
   "cell_type": "code",
   "execution_count": null,
   "metadata": {
    "ExecuteTime": {
     "end_time": "2018-10-23T18:04:39.216135Z",
     "start_time": "2018-10-23T18:04:39.179746Z"
    },
    "scrolled": true
   },
   "outputs": [],
   "source": [
    "df = pd.read_csv('./Position_Salaries.csv')\n",
    "print(f'{df.head()}')\n",
    "print('---------------------------------------------------')\n",
    "print(f'{df.describe()}')\n",
    "print('---------------------------------------------------')\n",
    "print(f'{df.info()}')\n",
    "print('---------------------------------------------------')\n",
    "print(f'{df.columns}')"
   ]
  },
  {
   "cell_type": "markdown",
   "metadata": {},
   "source": [
    "### Getting X & y"
   ]
  },
  {
   "cell_type": "code",
   "execution_count": null,
   "metadata": {
    "ExecuteTime": {
     "end_time": "2018-10-23T18:04:39.447181Z",
     "start_time": "2018-10-23T18:04:39.430545Z"
    }
   },
   "outputs": [],
   "source": [
    "X = df.iloc[:,1:2].values\n",
    "y = df['Salary'].values"
   ]
  },
  {
   "cell_type": "code",
   "execution_count": null,
   "metadata": {
    "ExecuteTime": {
     "end_time": "2018-10-23T18:04:39.571754Z",
     "start_time": "2018-10-23T18:04:39.556994Z"
    }
   },
   "outputs": [],
   "source": [
    "print(f'X shape: {X.shape}')\n",
    "print(f'y shape: {y.shape}')"
   ]
  },
  {
   "cell_type": "markdown",
   "metadata": {},
   "source": [
    "### Fitting linear regression to the data set"
   ]
  },
  {
   "cell_type": "code",
   "execution_count": null,
   "metadata": {
    "ExecuteTime": {
     "end_time": "2018-10-23T18:04:39.833014Z",
     "start_time": "2018-10-23T18:04:39.806116Z"
    }
   },
   "outputs": [],
   "source": [
    "lin_reg = LinearRegression()\n",
    "lin_reg.fit(X, y)"
   ]
  },
  {
   "cell_type": "markdown",
   "metadata": {},
   "source": [
    "### Fitting polynomial regression to the data set"
   ]
  },
  {
   "cell_type": "code",
   "execution_count": null,
   "metadata": {
    "ExecuteTime": {
     "end_time": "2018-10-23T18:04:40.075479Z",
     "start_time": "2018-10-23T18:04:40.052423Z"
    }
   },
   "outputs": [],
   "source": [
    "poly_reg = PolynomialFeatures(degree=4)\n",
    "X_poly = poly_reg.fit_transform(X)"
   ]
  },
  {
   "cell_type": "code",
   "execution_count": null,
   "metadata": {
    "ExecuteTime": {
     "end_time": "2018-10-23T18:04:40.190133Z",
     "start_time": "2018-10-23T18:04:40.172660Z"
    }
   },
   "outputs": [],
   "source": [
    "lin_reg_2 = LinearRegression()\n",
    "lin_reg_2.fit(X_poly, y)"
   ]
  },
  {
   "cell_type": "code",
   "execution_count": null,
   "metadata": {
    "ExecuteTime": {
     "end_time": "2018-10-23T18:04:40.320720Z",
     "start_time": "2018-10-23T18:04:40.303399Z"
    }
   },
   "outputs": [],
   "source": [
    "X_poly"
   ]
  },
  {
   "cell_type": "markdown",
   "metadata": {},
   "source": [
    "### Predicting values"
   ]
  },
  {
   "cell_type": "code",
   "execution_count": null,
   "metadata": {
    "ExecuteTime": {
     "end_time": "2018-10-23T18:06:44.389578Z",
     "start_time": "2018-10-23T18:06:44.373406Z"
    }
   },
   "outputs": [],
   "source": [
    "y_lin_pred = lin_reg.predict(X)"
   ]
  },
  {
   "cell_type": "code",
   "execution_count": null,
   "metadata": {
    "ExecuteTime": {
     "end_time": "2018-10-23T18:06:44.902952Z",
     "start_time": "2018-10-23T18:06:44.884134Z"
    }
   },
   "outputs": [],
   "source": [
    "y_lin_pred"
   ]
  },
  {
   "cell_type": "code",
   "execution_count": null,
   "metadata": {
    "ExecuteTime": {
     "end_time": "2018-10-23T18:06:45.509761Z",
     "start_time": "2018-10-23T18:06:45.492404Z"
    }
   },
   "outputs": [],
   "source": [
    "X_grid = np.arange(min(X), max(X), 0.01)\n",
    "X_grid = X_grid.reshape((len(X_grid)),1)"
   ]
  },
  {
   "cell_type": "code",
   "execution_count": null,
   "metadata": {
    "ExecuteTime": {
     "end_time": "2018-10-23T18:06:46.136152Z",
     "start_time": "2018-10-23T18:06:46.118995Z"
    }
   },
   "outputs": [],
   "source": [
    "y_pol_pred = lin_reg_2.predict(poly_reg.fit_transform(X_grid))"
   ]
  },
  {
   "cell_type": "code",
   "execution_count": null,
   "metadata": {
    "ExecuteTime": {
     "end_time": "2018-10-23T18:06:47.642672Z",
     "start_time": "2018-10-23T18:06:47.616946Z"
    },
    "scrolled": true
   },
   "outputs": [],
   "source": [
    "y_pol_pred"
   ]
  },
  {
   "cell_type": "markdown",
   "metadata": {
    "ExecuteTime": {
     "end_time": "2018-10-23T17:56:35.122300Z",
     "start_time": "2018-10-23T17:56:35.099624Z"
    }
   },
   "source": [
    "### Plotting the linear regression results"
   ]
  },
  {
   "cell_type": "code",
   "execution_count": null,
   "metadata": {
    "ExecuteTime": {
     "end_time": "2018-10-23T18:06:49.911205Z",
     "start_time": "2018-10-23T18:06:49.782017Z"
    }
   },
   "outputs": [],
   "source": [
    "plt.scatter(X, y, c='r')\n",
    "plt.plot(X, y_lin_pred, c='b')\n",
    "plt.title('Wage v Possition Level (Linear only model)')\n",
    "plt.xlabel('Years of Possition Level')\n",
    "plt.ylabel('Wage')\n",
    "plt.show()"
   ]
  },
  {
   "cell_type": "markdown",
   "metadata": {},
   "source": [
    "### Plotting the linear regression results"
   ]
  },
  {
   "cell_type": "code",
   "execution_count": null,
   "metadata": {
    "ExecuteTime": {
     "end_time": "2018-10-23T18:06:51.540187Z",
     "start_time": "2018-10-23T18:06:51.407987Z"
    }
   },
   "outputs": [],
   "source": [
    "plt.scatter(X, y, c='r')\n",
    "plt.plot(X_grid, y_pol_pred, c='b')\n",
    "plt.title('Wage v Possition Level (Polynomial model)')\n",
    "plt.xlabel('Years of Possition Level')\n",
    "plt.ylabel('Wage')\n",
    "plt.show()"
   ]
  },
  {
   "cell_type": "markdown",
   "metadata": {},
   "source": [
    "### Predicting a new result with Linear Regression"
   ]
  },
  {
   "cell_type": "code",
   "execution_count": null,
   "metadata": {
    "ExecuteTime": {
     "end_time": "2018-10-23T18:09:24.599090Z",
     "start_time": "2018-10-23T18:09:24.573193Z"
    }
   },
   "outputs": [],
   "source": [
    "lin_reg.predict(np.array(6.5).reshape(-1, 1))"
   ]
  },
  {
   "cell_type": "markdown",
   "metadata": {},
   "source": [
    "### Predicting a new result with Polynomial Regression"
   ]
  },
  {
   "cell_type": "code",
   "execution_count": null,
   "metadata": {
    "ExecuteTime": {
     "end_time": "2018-10-23T18:10:19.522819Z",
     "start_time": "2018-10-23T18:10:19.495794Z"
    }
   },
   "outputs": [],
   "source": [
    "lin_reg_2.predict(poly_reg.fit_transform(np.array(6.5).reshape(-1, 1)))"
   ]
  }
 ],
 "metadata": {
  "kernelspec": {
   "display_name": "Python 3",
   "language": "python",
   "name": "python3"
  },
  "language_info": {
   "codemirror_mode": {
    "name": "ipython",
    "version": 3
   },
   "file_extension": ".py",
   "mimetype": "text/x-python",
   "name": "python",
   "nbconvert_exporter": "python",
   "pygments_lexer": "ipython3",
   "version": "3.6.6"
  }
 },
 "nbformat": 4,
 "nbformat_minor": 2
}
