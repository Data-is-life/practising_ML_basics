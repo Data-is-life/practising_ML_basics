{
 "cells": [
  {
   "cell_type": "markdown",
   "metadata": {},
   "source": [
    "# Kernel SVM Classification"
   ]
  },
  {
   "cell_type": "code",
   "execution_count": null,
   "metadata": {
    "ExecuteTime": {
     "end_time": "2018-10-29T02:37:20.714129Z",
     "start_time": "2018-10-29T02:37:20.694519Z"
    }
   },
   "outputs": [],
   "source": [
    "import numpy as np\n",
    "import matplotlib.pyplot as plt\n",
    "import pandas as pd\n",
    "from sklearn.model_selection import train_test_split\n",
    "from sklearn.preprocessing import StandardScaler\n",
    "from sklearn.svm import SVC\n",
    "from sklearn.metrics import confusion_matrix\n",
    "from matplotlib.colors import ListedColormap"
   ]
  },
  {
   "cell_type": "code",
   "execution_count": null,
   "metadata": {
    "ExecuteTime": {
     "end_time": "2018-10-29T02:37:21.079513Z",
     "start_time": "2018-10-29T02:37:21.054966Z"
    }
   },
   "outputs": [],
   "source": [
    "df = pd.read_csv('Social_Network_Ads.csv')\n",
    "X = df.iloc[:, [2, 3]].values\n",
    "y = df.iloc[:, 4].values"
   ]
  },
  {
   "cell_type": "code",
   "execution_count": null,
   "metadata": {
    "ExecuteTime": {
     "end_time": "2018-10-29T02:37:21.366190Z",
     "start_time": "2018-10-29T02:37:21.309705Z"
    }
   },
   "outputs": [],
   "source": [
    "print(f'{df.head()}')\n",
    "print('---------------------------------------------------')\n",
    "print(f'{df.describe()}')\n",
    "print('---------------------------------------------------')\n",
    "print(f'{df.info()}')\n",
    "print('---------------------------------------------------')\n",
    "print(f'{df.columns}')"
   ]
  },
  {
   "cell_type": "code",
   "execution_count": null,
   "metadata": {
    "ExecuteTime": {
     "end_time": "2018-10-29T02:37:21.579329Z",
     "start_time": "2018-10-29T02:37:21.558341Z"
    }
   },
   "outputs": [],
   "source": [
    "X_train, X_test, y_train, y_test = train_test_split(\n",
    "    X, y, test_size=0.25, random_state=0)"
   ]
  },
  {
   "cell_type": "markdown",
   "metadata": {},
   "source": [
    "### Feature Scaling"
   ]
  },
  {
   "cell_type": "code",
   "execution_count": null,
   "metadata": {
    "ExecuteTime": {
     "end_time": "2018-10-29T02:37:22.056905Z",
     "start_time": "2018-10-29T02:37:22.032950Z"
    }
   },
   "outputs": [],
   "source": [
    "sc = StandardScaler()\n",
    "X_train = sc.fit_transform(X_train)\n",
    "X_test = sc.transform(X_test)"
   ]
  },
  {
   "cell_type": "markdown",
   "metadata": {},
   "source": [
    "### Fitting Kernel SVM Classification to the Training set"
   ]
  },
  {
   "cell_type": "code",
   "execution_count": null,
   "metadata": {
    "ExecuteTime": {
     "end_time": "2018-10-29T02:38:20.507916Z",
     "start_time": "2018-10-29T02:38:20.481291Z"
    }
   },
   "outputs": [],
   "source": [
    "classifier = SVC(kernel='poly', random_state=0, degree=7)\n",
    "classifier.fit(X_train, y_train)"
   ]
  },
  {
   "cell_type": "markdown",
   "metadata": {},
   "source": [
    "### Predicting the Test set results"
   ]
  },
  {
   "cell_type": "code",
   "execution_count": null,
   "metadata": {
    "ExecuteTime": {
     "end_time": "2018-10-29T02:38:21.177407Z",
     "start_time": "2018-10-29T02:38:21.152462Z"
    }
   },
   "outputs": [],
   "source": [
    "y_pred = classifier.predict(X_test)\n",
    "y_pred"
   ]
  },
  {
   "cell_type": "markdown",
   "metadata": {},
   "source": [
    "### Making the Confusion Matrix"
   ]
  },
  {
   "cell_type": "code",
   "execution_count": null,
   "metadata": {
    "ExecuteTime": {
     "end_time": "2018-10-29T02:38:21.677538Z",
     "start_time": "2018-10-29T02:38:21.653811Z"
    }
   },
   "outputs": [],
   "source": [
    "cm = confusion_matrix(y_test, y_pred)\n",
    "cm"
   ]
  },
  {
   "cell_type": "code",
   "execution_count": null,
   "metadata": {
    "ExecuteTime": {
     "end_time": "2018-10-29T02:38:21.915855Z",
     "start_time": "2018-10-29T02:38:21.895900Z"
    }
   },
   "outputs": [],
   "source": [
    "accuracy = (cm[0][0]+cm[1][1])/(cm.sum())\n",
    "print(f'Accuracy = {accuracy*100}%')"
   ]
  },
  {
   "cell_type": "markdown",
   "metadata": {},
   "source": [
    "### Visualising the Training set results"
   ]
  },
  {
   "cell_type": "code",
   "execution_count": null,
   "metadata": {
    "ExecuteTime": {
     "end_time": "2018-10-29T02:38:22.890770Z",
     "start_time": "2018-10-29T02:38:22.336407Z"
    }
   },
   "outputs": [],
   "source": [
    "X_set, y_set = X_train, y_train\n",
    "\n",
    "X1, X2 = np.meshgrid(np.arange(start=X_set[:, 0].min() - .25,\n",
    "                               stop=X_set[:, 0].max() + .25, step=0.01),\n",
    "                     np.arange(start=X_set[:, 1].min() - .25,\n",
    "                               stop=X_set[:, 1].max() + .25, step=0.01))\n",
    "\n",
    "plt.contourf(X1, X2, classifier.predict(np.array(\n",
    "    [X1.ravel(), X2.ravel()]).T).reshape(X1.shape),\n",
    "    alpha=0.4, cmap=ListedColormap(('red', 'green')))\n",
    "\n",
    "plt.xlim(X1.min(), X1.max())\n",
    "plt.ylim(X2.min(), X2.max())\n",
    "\n",
    "for i, j in enumerate(np.unique(y_set)):\n",
    "    plt.scatter(X_set[y_set == j, 0], X_set[y_set == j, 1],\n",
    "                c=['r', 'g'][i], marker='*', label=j)\n",
    "\n",
    "plt.title('SVM Kernel Regression (Training set)')\n",
    "plt.xlabel('Age')\n",
    "plt.ylabel('Estimated Salary')\n",
    "plt.legend()\n",
    "plt.show()"
   ]
  },
  {
   "cell_type": "markdown",
   "metadata": {},
   "source": [
    "### Visualising the Test set results"
   ]
  },
  {
   "cell_type": "code",
   "execution_count": null,
   "metadata": {
    "ExecuteTime": {
     "end_time": "2018-10-29T02:38:24.830293Z",
     "start_time": "2018-10-29T02:38:24.304108Z"
    }
   },
   "outputs": [],
   "source": [
    "X_set, y_set = X_test, y_test\n",
    "\n",
    "X1, X2 = np.meshgrid(np.arange(start=X_set[:, 0].min() - .25,\n",
    "                               stop=X_set[:, 0].max() + .25, step=0.01),\n",
    "                     np.arange(start=X_set[:, 1].min() - .25,\n",
    "                               stop=X_set[:, 1].max() + .25, step=0.01))\n",
    "\n",
    "plt.contourf(X1, X2, classifier.predict(np.array(\n",
    "    [X1.ravel(), X2.ravel()]).T).reshape(X1.shape),\n",
    "    alpha=0.45, cmap=ListedColormap(('red', 'green')))\n",
    "\n",
    "plt.xlim(X1.min(), X1.max())\n",
    "plt.ylim(X2.min(), X2.max())\n",
    "\n",
    "for i, j in enumerate(np.unique(y_set)):\n",
    "    plt.scatter(X_set[y_set == j, 0], X_set[y_set == j, 1],\n",
    "                c=['r', 'g'][i], marker='*', label=j)\n",
    "\n",
    "plt.title('SVM Kernel Regression (Test set)')\n",
    "plt.xlabel('Age')\n",
    "plt.ylabel('Estimated Salary')\n",
    "plt.legend()\n",
    "plt.show()"
   ]
  },
  {
   "cell_type": "code",
   "execution_count": null,
   "metadata": {},
   "outputs": [],
   "source": []
  },
  {
   "cell_type": "code",
   "execution_count": null,
   "metadata": {},
   "outputs": [],
   "source": []
  }
 ],
 "metadata": {
  "kernelspec": {
   "display_name": "Python 3",
   "language": "python",
   "name": "python3"
  },
  "language_info": {
   "codemirror_mode": {
    "name": "ipython",
    "version": 3
   },
   "file_extension": ".py",
   "mimetype": "text/x-python",
   "name": "python",
   "nbconvert_exporter": "python",
   "pygments_lexer": "ipython3",
   "version": "3.6.6"
  }
 },
 "nbformat": 4,
 "nbformat_minor": 2
}
