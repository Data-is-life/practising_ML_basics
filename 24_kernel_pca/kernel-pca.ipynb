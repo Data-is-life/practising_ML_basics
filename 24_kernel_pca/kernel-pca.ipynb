{
 "cells": [
  {
   "cell_type": "markdown",
   "metadata": {},
   "source": [
    "# Kernel-PCA"
   ]
  },
  {
   "cell_type": "code",
   "execution_count": null,
   "metadata": {
    "ExecuteTime": {
     "end_time": "2018-10-30T03:57:13.667027Z",
     "start_time": "2018-10-30T03:57:13.645893Z"
    }
   },
   "outputs": [],
   "source": [
    "import numpy as np\n",
    "import matplotlib.pyplot as plt\n",
    "import pandas as pd\n",
    "from sklearn.model_selection import train_test_split\n",
    "from sklearn.preprocessing import StandardScaler\n",
    "from sklearn.decomposition import KernelPCA\n",
    "from sklearn.linear_model import LogisticRegression\n",
    "from sklearn.metrics import confusion_matrix\n",
    "from matplotlib.colors import ListedColormap"
   ]
  },
  {
   "cell_type": "code",
   "execution_count": null,
   "metadata": {
    "ExecuteTime": {
     "end_time": "2018-10-30T03:57:13.795521Z",
     "start_time": "2018-10-30T03:57:13.765886Z"
    }
   },
   "outputs": [],
   "source": [
    "df = pd.read_csv('./Social_Network_Ads.csv')\n",
    "X = df.iloc[:, [2, 3]].values\n",
    "y = df.iloc[:, 4].values"
   ]
  },
  {
   "cell_type": "code",
   "execution_count": null,
   "metadata": {
    "ExecuteTime": {
     "end_time": "2018-10-30T03:57:13.959217Z",
     "start_time": "2018-10-30T03:57:13.898677Z"
    },
    "scrolled": true
   },
   "outputs": [],
   "source": [
    "print(f'{df.head()}')\n",
    "print('---------------------------------------------------')\n",
    "print(f'{df.describe()}')\n",
    "print('---------------------------------------------------')\n",
    "print(f'{df.info()}')\n",
    "print('---------------------------------------------------')\n",
    "print(f'{df.columns}')"
   ]
  },
  {
   "cell_type": "markdown",
   "metadata": {
    "ExecuteTime": {
     "end_time": "2018-10-30T03:26:53.312399Z",
     "start_time": "2018-10-30T03:26:53.292358Z"
    }
   },
   "source": [
    "### Splitting the dataset into the Training set and Test set"
   ]
  },
  {
   "cell_type": "code",
   "execution_count": null,
   "metadata": {
    "ExecuteTime": {
     "end_time": "2018-10-30T03:57:14.167186Z",
     "start_time": "2018-10-30T03:57:14.145987Z"
    }
   },
   "outputs": [],
   "source": [
    "X_train, X_test, y_train, y_test = train_test_split(\n",
    "    X, y, test_size=0.25, random_state=0)"
   ]
  },
  {
   "cell_type": "markdown",
   "metadata": {},
   "source": [
    "### Feature Scaling"
   ]
  },
  {
   "cell_type": "code",
   "execution_count": null,
   "metadata": {
    "ExecuteTime": {
     "end_time": "2018-10-30T03:57:14.410715Z",
     "start_time": "2018-10-30T03:57:14.389756Z"
    }
   },
   "outputs": [],
   "source": [
    "sc = StandardScaler()\n",
    "X_train = sc.fit_transform(X_train)\n",
    "X_test = sc.transform(X_test)"
   ]
  },
  {
   "cell_type": "markdown",
   "metadata": {},
   "source": [
    "### Applying Kernel PCA"
   ]
  },
  {
   "cell_type": "code",
   "execution_count": null,
   "metadata": {
    "ExecuteTime": {
     "end_time": "2018-10-30T03:57:14.692364Z",
     "start_time": "2018-10-30T03:57:14.648799Z"
    }
   },
   "outputs": [],
   "source": [
    "kpca = KernelPCA(n_components=2, kernel='poly')\n",
    "X_train = kpca.fit_transform(X_train)\n",
    "X_test = kpca.transform(X_test)"
   ]
  },
  {
   "cell_type": "markdown",
   "metadata": {},
   "source": [
    "### Fitting Logistic Regression to the Training set"
   ]
  },
  {
   "cell_type": "code",
   "execution_count": null,
   "metadata": {
    "ExecuteTime": {
     "end_time": "2018-10-30T03:57:14.928809Z",
     "start_time": "2018-10-30T03:57:14.894817Z"
    }
   },
   "outputs": [],
   "source": [
    "classifier = LogisticRegression(\n",
    "    random_state=0, solver='lbfgs', multi_class='multinomial')\n",
    "classifier.fit(X_train, y_train)"
   ]
  },
  {
   "cell_type": "markdown",
   "metadata": {},
   "source": [
    "### Predicting the Test set results"
   ]
  },
  {
   "cell_type": "code",
   "execution_count": null,
   "metadata": {
    "ExecuteTime": {
     "end_time": "2018-10-30T03:57:15.745952Z",
     "start_time": "2018-10-30T03:57:15.721891Z"
    }
   },
   "outputs": [],
   "source": [
    "y_pred = classifier.predict(X_test)\n",
    "y_pred"
   ]
  },
  {
   "cell_type": "markdown",
   "metadata": {},
   "source": [
    "### Making the Confusion Matrix"
   ]
  },
  {
   "cell_type": "code",
   "execution_count": null,
   "metadata": {
    "ExecuteTime": {
     "end_time": "2018-10-30T03:57:16.608874Z",
     "start_time": "2018-10-30T03:57:16.586181Z"
    }
   },
   "outputs": [],
   "source": [
    "cm = confusion_matrix(y_test, y_pred)\n",
    "cm"
   ]
  },
  {
   "cell_type": "code",
   "execution_count": null,
   "metadata": {
    "ExecuteTime": {
     "end_time": "2018-10-30T03:57:17.245463Z",
     "start_time": "2018-10-30T03:57:17.224040Z"
    }
   },
   "outputs": [],
   "source": [
    "accuracy = (cm[0][0]+cm[1][1])/(cm.sum())\n",
    "print(f'Accuracy = {accuracy*100}%')"
   ]
  },
  {
   "cell_type": "markdown",
   "metadata": {},
   "source": [
    "### Visualizing the Training set results"
   ]
  },
  {
   "cell_type": "code",
   "execution_count": null,
   "metadata": {
    "ExecuteTime": {
     "end_time": "2018-10-30T03:57:56.508515Z",
     "start_time": "2018-10-30T03:57:56.029666Z"
    }
   },
   "outputs": [],
   "source": [
    "X_set, y_set = X_train, y_train\n",
    "\n",
    "X1, X2 = np.meshgrid(np.arange(start=X_set[:, 0].min() - .25,\n",
    "                               stop=X_set[:, 0].max() + .25, step=0.01),\n",
    "                     np.arange(start=X_set[:, 1].min() - .25,\n",
    "                               stop=X_set[:, 1].max() + .25, step=0.01))\n",
    "\n",
    "plt.contourf(X1, X2, classifier.predict(np.array(\n",
    "    [X1.ravel(), X2.ravel()]).T).reshape(X1.shape),\n",
    "    alpha=0.3, cmap=ListedColormap(('red', 'green')))\n",
    "\n",
    "plt.xlim(X1.min(), X1.max())\n",
    "plt.ylim(X2.min(), X2.max())\n",
    "\n",
    "for i, j in enumerate(np.unique(y_set)):\n",
    "    plt.scatter(X_set[y_set == j, 0], X_set[y_set == j, 1],\n",
    "                c=['r', 'g'][i], marker='x', label=j)\n",
    "\n",
    "plt.title('Logistic Classification (Training set)')\n",
    "plt.xlabel('KP1')\n",
    "plt.ylabel('KP2')\n",
    "plt.legend()\n",
    "plt.show()"
   ]
  },
  {
   "cell_type": "markdown",
   "metadata": {},
   "source": [
    "### Visualizing the Test set results"
   ]
  },
  {
   "cell_type": "code",
   "execution_count": null,
   "metadata": {
    "ExecuteTime": {
     "end_time": "2018-10-30T03:57:57.960051Z",
     "start_time": "2018-10-30T03:57:57.548479Z"
    }
   },
   "outputs": [],
   "source": [
    "X_set, y_set = X_test, y_test\n",
    "\n",
    "X1, X2 = np.meshgrid(np.arange(start=X_set[:, 0].min() - .25,\n",
    "                               stop=X_set[:, 0].max() + .25, step=0.01),\n",
    "                     np.arange(start=X_set[:, 1].min() - .25,\n",
    "                               stop=X_set[:, 1].max() + .25, step=0.01))\n",
    "\n",
    "plt.contourf(X1, X2, classifier.predict(np.array(\n",
    "    [X1.ravel(), X2.ravel()]).T).reshape(X1.shape),\n",
    "    alpha=0.3, cmap=ListedColormap(('red', 'green')))\n",
    "\n",
    "plt.xlim(X1.min(), X1.max())\n",
    "plt.ylim(X2.min(), X2.max())\n",
    "\n",
    "for i, j in enumerate(np.unique(y_set)):\n",
    "    plt.scatter(X_set[y_set == j, 0], X_set[y_set == j, 1],\n",
    "                c=['r', 'g'][i], marker='x', label=j)\n",
    "\n",
    "plt.title('Logistic Classification (Test set)')\n",
    "plt.xlabel('KP1')\n",
    "plt.ylabel('KP2')\n",
    "plt.legend()\n",
    "plt.show()"
   ]
  },
  {
   "cell_type": "code",
   "execution_count": null,
   "metadata": {},
   "outputs": [],
   "source": []
  }
 ],
 "metadata": {
  "kernelspec": {
   "display_name": "Python 3",
   "language": "python",
   "name": "python3"
  },
  "language_info": {
   "codemirror_mode": {
    "name": "ipython",
    "version": 3
   },
   "file_extension": ".py",
   "mimetype": "text/x-python",
   "name": "python",
   "nbconvert_exporter": "python",
   "pygments_lexer": "ipython3",
   "version": "3.6.6"
  }
 },
 "nbformat": 4,
 "nbformat_minor": 2
}
